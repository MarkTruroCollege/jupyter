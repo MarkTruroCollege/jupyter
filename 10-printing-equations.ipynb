{
  "cells": [
    {
      "cell_type": "code",
      "execution_count": 1,
      "id": "0fade353",
      "metadata": {
        "id": "0fade353",
        "outputId": "ace3b480-9beb-4205-e66b-6000d4937b53",
        "colab": {
          "base_uri": "https://localhost:8080/",
          "height": 54
        }
      },
      "outputs": [
        {
          "output_type": "display_data",
          "data": {
            "text/plain": [
              "'4 + 3 = 7'"
            ],
            "application/vnd.google.colaboratory.intrinsic+json": {
              "type": "string"
            }
          },
          "metadata": {}
        },
        {
          "output_type": "display_data",
          "data": {
            "text/plain": [
              "'4 + 3 = 7'"
            ],
            "application/vnd.google.colaboratory.intrinsic+json": {
              "type": "string"
            }
          },
          "metadata": {}
        }
      ],
      "source": [
        "from IPython.display import display, Math\n",
        "\n",
        "display(\"4 + 3 = 7\")\n",
        "display(\"4 + 3 = \" + str(4+3))"
      ]
    },
    {
      "cell_type": "code",
      "execution_count": 2,
      "id": "99ef1f87",
      "metadata": {
        "id": "99ef1f87",
        "outputId": "58608c6c-cbc8-4614-8934-a6b429438f2a",
        "colab": {
          "base_uri": "https://localhost:8080/",
          "height": 37
        }
      },
      "outputs": [
        {
          "output_type": "display_data",
          "data": {
            "text/plain": [
              "<IPython.core.display.Math object>"
            ],
            "text/latex": "$\\displaystyle 4+3=7$"
          },
          "metadata": {}
        }
      ],
      "source": [
        "display(Math('4+3=7'))"
      ]
    },
    {
      "cell_type": "code",
      "execution_count": 3,
      "id": "40e9bf0f",
      "metadata": {
        "id": "40e9bf0f",
        "outputId": "8bb14f2f-61fb-49e7-969c-bad79b054fa6",
        "colab": {
          "base_uri": "https://localhost:8080/",
          "height": 37
        }
      },
      "outputs": [
        {
          "output_type": "display_data",
          "data": {
            "text/plain": [
              "<IPython.core.display.Math object>"
            ],
            "text/latex": "$\\displaystyle 4 + 5 = 9$"
          },
          "metadata": {}
        }
      ],
      "source": [
        "x = 4\n",
        "y = 5\n",
        "\n",
        "display(Math(str(x) + ' + ' + str(y) + ' = ' + str(x+y)))"
      ]
    },
    {
      "cell_type": "code",
      "execution_count": 4,
      "id": "9834f6fc",
      "metadata": {
        "id": "9834f6fc",
        "outputId": "4e2db542-2a52-4a29-e7c9-2b1d37b4af7f",
        "colab": {
          "base_uri": "https://localhost:8080/",
          "height": 37
        }
      },
      "outputs": [
        {
          "output_type": "display_data",
          "data": {
            "text/plain": [
              "<IPython.core.display.Math object>"
            ],
            "text/latex": "$\\displaystyle 4 + 5 = 9$"
          },
          "metadata": {}
        }
      ],
      "source": [
        "display(Math('%g + %g = %g' %(x,y,x+y)))"
      ]
    },
    {
      "cell_type": "code",
      "execution_count": 5,
      "id": "040955c6",
      "metadata": {
        "id": "040955c6",
        "outputId": "e16a3bbd-e480-4632-f146-84c3cf6c1df5",
        "colab": {
          "base_uri": "https://localhost:8080/",
          "height": 71
        }
      },
      "outputs": [
        {
          "output_type": "display_data",
          "data": {
            "text/plain": [
              "<IPython.core.display.Math object>"
            ],
            "text/latex": "$\\displaystyle 4/5 = 0.8$"
          },
          "metadata": {}
        },
        {
          "output_type": "display_data",
          "data": {
            "text/plain": [
              "<IPython.core.display.Math object>"
            ],
            "text/latex": "$\\displaystyle \\frac{4}{5} = 0.8$"
          },
          "metadata": {}
        }
      ],
      "source": [
        "display(Math('4/5 = 0.8'))\n",
        "display(Math('\\\\frac{4}{5} = 0.8'))"
      ]
    },
    {
      "cell_type": "code",
      "execution_count": 6,
      "id": "a19fcf8e",
      "metadata": {
        "id": "a19fcf8e",
        "outputId": "3c4ec935-2104-428a-ed80-e9379260edfd",
        "colab": {
          "base_uri": "https://localhost:8080/",
          "height": 37
        }
      },
      "outputs": [
        {
          "output_type": "display_data",
          "data": {
            "text/plain": [
              "<IPython.core.display.Math object>"
            ],
            "text/latex": "$\\displaystyle 3.4 \\times 17 = 57.8$"
          },
          "metadata": {}
        }
      ],
      "source": [
        "x = 3.4\n",
        "y = 17\n",
        "\n",
        "display(Math('%g \\\\times %g = %g' %(x,y,x*y)))"
      ]
    },
    {
      "cell_type": "code",
      "execution_count": 7,
      "id": "f94cf179",
      "metadata": {
        "id": "f94cf179",
        "outputId": "2648096a-7a61-4163-8470-54d3e3e813a2",
        "colab": {
          "base_uri": "https://localhost:8080/",
          "height": 59
        }
      },
      "outputs": [
        {
          "output_type": "display_data",
          "data": {
            "text/plain": [
              "<IPython.core.display.Math object>"
            ],
            "text/latex": "$\\displaystyle 3x(4+y) = 42$"
          },
          "metadata": {}
        },
        {
          "output_type": "display_data",
          "data": {
            "text/plain": [
              "<IPython.core.display.Math object>"
            ],
            "text/latex": "$\\displaystyle 3 \\times 7 \\times (4  -2) = 42$"
          },
          "metadata": {}
        }
      ],
      "source": [
        "x = 7\n",
        "y = -2\n",
        "z = 5\n",
        "ans = 3*x*(4+y)\n",
        "\n",
        "display(Math('3x(4+y) = %g' %ans))\n",
        "display(Math('%g \\\\times %g \\\\times (%g  %g) = %g' %(3, x, 4, y, ans)))"
      ]
    },
    {
      "cell_type": "code",
      "execution_count": 9,
      "id": "04666960",
      "metadata": {
        "id": "04666960",
        "outputId": "ff76fe7a-ff3d-49d3-b1d5-dc9737a18553",
        "colab": {
          "base_uri": "https://localhost:8080/",
          "height": 89
        }
      },
      "outputs": [
        {
          "output_type": "display_data",
          "data": {
            "text/plain": [
              "<IPython.core.display.Math object>"
            ],
            "text/latex": "$\\displaystyle -y - \\frac{(x+3)}{z} = 0$"
          },
          "metadata": {}
        },
        {
          "output_type": "display_data",
          "data": {
            "text/plain": [
              "<IPython.core.display.Math object>"
            ],
            "text/latex": "$\\displaystyle --2 - \\frac{(7+3)}{5} = 0$"
          },
          "metadata": {}
        }
      ],
      "source": [
        "ans = -y - (x+3)/z\n",
        "\n",
        "display(Math('-y - \\\\frac{(x+3)}{z} = %g' %ans))\n",
        "display(Math('-%g - \\\\frac{(%g+3)}{%g} = %g' %(y,x,z,ans))) "
      ]
    },
    {
      "cell_type": "code",
      "source": [
        "#This is a comment to see if it is pushed to GitHub"
      ],
      "metadata": {
        "id": "7A9IG2KzC1DJ"
      },
      "id": "7A9IG2KzC1DJ",
      "execution_count": 10,
      "outputs": []
    }
  ],
  "metadata": {
    "kernelspec": {
      "display_name": "Python 3 (ipykernel)",
      "language": "python",
      "name": "python3"
    },
    "language_info": {
      "codemirror_mode": {
        "name": "ipython",
        "version": 3
      },
      "file_extension": ".py",
      "mimetype": "text/x-python",
      "name": "python",
      "nbconvert_exporter": "python",
      "pygments_lexer": "ipython3",
      "version": "3.8.8"
    },
    "colab": {
      "provenance": []
    }
  },
  "nbformat": 4,
  "nbformat_minor": 5
}